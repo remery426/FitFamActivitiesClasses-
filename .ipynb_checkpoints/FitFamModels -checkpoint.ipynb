{
 "cells": [
  {
   "cell_type": "code",
   "execution_count": 29,
   "metadata": {
    "collapsed": true
   },
   "outputs": [],
   "source": [
    "from datetime import datetime"
   ]
  },
  {
   "cell_type": "code",
   "execution_count": 12,
   "metadata": {
    "collapsed": true
   },
   "outputs": [],
   "source": [
    "class Event:\n",
    "    def __init__(self,name,description, startdate, enddate):\n",
    "        self.name = name\n",
    "        self.description = description\n",
    "        self.startdate = startdate \n",
    "        self.enddate = enddate \n",
    "   \n",
    "        \n",
    "\n",
    "        "
   ]
  },
  {
   "cell_type": "code",
   "execution_count": 13,
   "metadata": {
    "collapsed": true
   },
   "outputs": [],
   "source": [
    "class User:\n",
    "    def __init__(self,username):\n",
    "        self.username = username\n",
    "        "
   ]
  },
  {
   "cell_type": "code",
   "execution_count": null,
   "metadata": {
    "collapsed": true
   },
   "outputs": [],
   "source": []
  },
  {
   "cell_type": "code",
   "execution_count": 14,
   "metadata": {
    "collapsed": false
   },
   "outputs": [],
   "source": [
    "class Activity:\n",
    "    def __init__(self,distance,description,timeOfDay,actDate, goal):\n",
    "        self.distance = distance \n",
    "        self.description = description\n",
    "        self.timeofDay = timeOfDay\n",
    "        self.actDate = actDate \n",
    "        goal.addActivity(self)"
   ]
  },
  {
   "cell_type": "code",
   "execution_count": 21,
   "metadata": {
    "collapsed": true
   },
   "outputs": [],
   "source": [
    "class Goal:\n",
    "    def __init__(self,distanceGoal,event,user):\n",
    "        self.complete = False\n",
    "        self.distanceGoal = distanceGoal\n",
    "        self.remaining = distanceGoal\n",
    "        self.event = event \n",
    "        self.user = user\n",
    "        self.activities = []\n",
    "    def addActivity(self,activity):\n",
    "        self.activities.append(activity)\n",
    "        self.remaining -= activity.distance\n",
    "        if self.remaining <= 0:\n",
    "            self.complete = True \n",
    "            self.remaining = 0 \n",
    "            print(\"Congratulations you have completed your goal!\")\n",
    "    \n",
    "        "
   ]
  },
  {
   "cell_type": "code",
   "execution_count": 45,
   "metadata": {
    "collapsed": true
   },
   "outputs": [],
   "source": [
    "user1 =  User(\"Jon\")"
   ]
  },
  {
   "cell_type": "code",
   "execution_count": 46,
   "metadata": {
    "collapsed": false
   },
   "outputs": [],
   "source": [
    "event1 = Event(\"Turkey Trot 2017\", \"Run 10k in November\", datetime(2017, 11, 24) , datetime(2017,11, 27))"
   ]
  },
  {
   "cell_type": "code",
   "execution_count": 47,
   "metadata": {
    "collapsed": true
   },
   "outputs": [],
   "source": [
    "goal1=Goal(10,event1,user1)"
   ]
  },
  {
   "cell_type": "code",
   "execution_count": 48,
   "metadata": {
    "collapsed": false
   },
   "outputs": [],
   "source": [
    "activity = Activity(5,\"Quick Jog\",\"Morining\",datetime(2017, 11, 24),goal1)"
   ]
  },
  {
   "cell_type": "code",
   "execution_count": 49,
   "metadata": {
    "collapsed": false
   },
   "outputs": [
    {
     "name": "stdout",
     "output_type": "stream",
     "text": [
      "{'complete': False, 'distanceGoal': 10, 'remaining': 5, 'event': <__main__.Event object at 0x00000267A16F0D30>, 'user': <__main__.User object at 0x00000267A16F09B0>, 'activities': [<__main__.Activity object at 0x00000267A16F0668>]}\n"
     ]
    }
   ],
   "source": [
    "print(goal1.__dict__)"
   ]
  },
  {
   "cell_type": "code",
   "execution_count": 50,
   "metadata": {
    "collapsed": false
   },
   "outputs": [
    {
     "name": "stdout",
     "output_type": "stream",
     "text": [
      "Congratulations you have completed your goal!\n"
     ]
    }
   ],
   "source": [
    "activity1 = Activity(5,\"Great workout\",\"Afternoon\",datetime(2017, 11, 25),goal1)"
   ]
  },
  {
   "cell_type": "code",
   "execution_count": 51,
   "metadata": {
    "collapsed": false
   },
   "outputs": [
    {
     "name": "stdout",
     "output_type": "stream",
     "text": [
      "{'complete': True, 'distanceGoal': 10, 'remaining': 0, 'event': <__main__.Event object at 0x00000267A16F0D30>, 'user': <__main__.User object at 0x00000267A16F09B0>, 'activities': [<__main__.Activity object at 0x00000267A16F0668>, <__main__.Activity object at 0x00000267A16F0E10>]}\n"
     ]
    }
   ],
   "source": [
    "print(goal1.__dict__)"
   ]
  },
  {
   "cell_type": "code",
   "execution_count": null,
   "metadata": {
    "collapsed": true
   },
   "outputs": [],
   "source": []
  }
 ],
 "metadata": {
  "kernelspec": {
   "display_name": "Python 3",
   "language": "python",
   "name": "python3"
  },
  "language_info": {
   "codemirror_mode": {
    "name": "ipython",
    "version": 3
   },
   "file_extension": ".py",
   "mimetype": "text/x-python",
   "name": "python",
   "nbconvert_exporter": "python",
   "pygments_lexer": "ipython3",
   "version": "3.6.0"
  }
 },
 "nbformat": 4,
 "nbformat_minor": 2
}
